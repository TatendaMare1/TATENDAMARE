{
 "cells": [
  {
   "cell_type": "code",
   "execution_count": 2,
   "id": "e5122c40",
   "metadata": {},
   "outputs": [],
   "source": [
    "# IMPORT THE NECESSARY LIBRARIES\n",
    "import pandas as pd\n",
    "import numpy as np\n",
    "import matplotlib.pyplot as plt\n",
    "import seaborn as sns\n",
    "from sklearn.model_selection import train_test_split\n",
    "from sklearn.ensemble import RandomForestClassifier"
   ]
  },
  {
   "cell_type": "code",
   "execution_count": 10,
   "id": "059c44c7",
   "metadata": {},
   "outputs": [
    {
     "name": "stderr",
     "output_type": "stream",
     "text": [
      "C:\\Users\\HP\\AppData\\Local\\Temp\\ipykernel_4368\\3281039979.py:2: DtypeWarning: Columns (4,5,7,8,18) have mixed types. Specify dtype option on import or set low_memory=False.\n",
      "  data = pd.read_csv(\"C://Users//HP//Desktop//Dissertation//Availability and crop production.csv\", encoding='ISO-8859-1')\n"
     ]
    }
   ],
   "source": [
    "# Try reading the CSV with a different encoding\n",
    "data = pd.read_csv(\"C://Users//HP//Desktop//Dissertation//Availability and crop production.csv\", encoding='ISO-8859-1')"
   ]
  },
  {
   "cell_type": "code",
   "execution_count": 11,
   "id": "7ad8e821",
   "metadata": {},
   "outputs": [
    {
     "name": "stdout",
     "output_type": "stream",
     "text": [
      "  Domain Code                                             Domain  \\\n",
      "0         SUA  Availability (based on supply utilization acco...   \n",
      "1         SUA  Availability (based on supply utilization acco...   \n",
      "2         SUA  Availability (based on supply utilization acco...   \n",
      "3         SUA  Availability (based on supply utilization acco...   \n",
      "4         SUA  Availability (based on supply utilization acco...   \n",
      "\n",
      "   Area Code (M49)      Area Food Group Code                  Food Group  \\\n",
      "0               72  Botswana             FG1  Cereals and their products   \n",
      "1               72  Botswana             FG1  Cereals and their products   \n",
      "2               72  Botswana             FG1  Cereals and their products   \n",
      "3               72  Botswana             FG1  Cereals and their products   \n",
      "4               72  Botswana             FG1  Cereals and their products   \n",
      "\n",
      "   Indicator Code       Indicator Item Item Code  Year Code  Year  \\\n",
      "0          4004.0  Protein supply  NaN       NaN       2010  2010   \n",
      "1          4004.0  Protein supply  NaN       NaN       2011  2011   \n",
      "2          4004.0  Protein supply  NaN       NaN       2012  2012   \n",
      "3          4004.0  Protein supply  NaN       NaN       2013  2013   \n",
      "4          4004.0  Protein supply  NaN       NaN       2014  2014   \n",
      "\n",
      "   Element Code Element     Unit  Value Flag Flag Description Note  \n",
      "0          6123   Value  g/cap/d   24.0    E  Estimated value  NaN  \n",
      "1          6123   Value  g/cap/d   24.0    E  Estimated value  NaN  \n",
      "2          6123   Value  g/cap/d   25.0    E  Estimated value  NaN  \n",
      "3          6123   Value  g/cap/d   26.1    E  Estimated value  NaN  \n",
      "4          6123   Value  g/cap/d   27.5    E  Estimated value  NaN  \n"
     ]
    }
   ],
   "source": [
    "# Display the first few rows of the dataset\n",
    "print(data.head())"
   ]
  },
  {
   "cell_type": "code",
   "execution_count": 13,
   "id": "19c5a32c",
   "metadata": {},
   "outputs": [
    {
     "data": {
      "text/plain": [
       "(65897, 19)"
      ]
     },
     "execution_count": 13,
     "metadata": {},
     "output_type": "execute_result"
    }
   ],
   "source": [
    "# determine the shape of the data\n",
    "#shows teh number of rows and columns in the dataset\n",
    "data.shape"
   ]
  },
  {
   "cell_type": "code",
   "execution_count": 14,
   "id": "387b533a",
   "metadata": {},
   "outputs": [
    {
     "name": "stdout",
     "output_type": "stream",
     "text": [
      "<class 'pandas.core.frame.DataFrame'>\n",
      "RangeIndex: 65897 entries, 0 to 65896\n",
      "Data columns (total 19 columns):\n",
      " #   Column            Non-Null Count  Dtype  \n",
      "---  ------            --------------  -----  \n",
      " 0   Domain Code       65897 non-null  object \n",
      " 1   Domain            65897 non-null  object \n",
      " 2   Area Code (M49)   65897 non-null  int64  \n",
      " 3   Area              65897 non-null  object \n",
      " 4   Food Group Code   15362 non-null  object \n",
      " 5   Food Group        15362 non-null  object \n",
      " 6   Indicator Code    15362 non-null  float64\n",
      " 7   Indicator         15362 non-null  object \n",
      " 8   Item              50535 non-null  object \n",
      " 9   Item Code         50535 non-null  object \n",
      " 10  Year Code         65897 non-null  int64  \n",
      " 11  Year              65897 non-null  int64  \n",
      " 12  Element Code      65897 non-null  int64  \n",
      " 13  Element           65897 non-null  object \n",
      " 14  Unit              65897 non-null  object \n",
      " 15  Value             65897 non-null  float64\n",
      " 16  Flag              65897 non-null  object \n",
      " 17  Flag Description  65897 non-null  object \n",
      " 18  Note              486 non-null    object \n",
      "dtypes: float64(2), int64(4), object(13)\n",
      "memory usage: 9.6+ MB\n"
     ]
    }
   ],
   "source": [
    "# shows the information on the data\n",
    "data.info()"
   ]
  },
  {
   "cell_type": "code",
   "execution_count": 16,
   "id": "51ee051c",
   "metadata": {},
   "outputs": [
    {
     "data": {
      "text/plain": [
       "['Domain Code',\n",
       " 'Domain',\n",
       " 'Area Code (M49)',\n",
       " 'Area',\n",
       " 'Food Group Code',\n",
       " 'Food Group',\n",
       " 'Indicator Code',\n",
       " 'Indicator',\n",
       " 'Item',\n",
       " 'Item Code',\n",
       " 'Year Code',\n",
       " 'Year',\n",
       " 'Element Code',\n",
       " 'Element',\n",
       " 'Unit',\n",
       " 'Value',\n",
       " 'Flag',\n",
       " 'Flag Description',\n",
       " 'Note']"
      ]
     },
     "execution_count": 16,
     "metadata": {},
     "output_type": "execute_result"
    }
   ],
   "source": [
    "#add columns to list for easy access\n",
    "data.columns.tolist()"
   ]
  },
  {
   "cell_type": "code",
   "execution_count": 18,
   "id": "a8b83eb0",
   "metadata": {},
   "outputs": [
    {
     "data": {
      "text/plain": [
       "Domain Code             0\n",
       "Domain                  0\n",
       "Area Code (M49)         0\n",
       "Area                    0\n",
       "Food Group Code     50535\n",
       "Food Group          50535\n",
       "Indicator Code      50535\n",
       "Indicator           50535\n",
       "Item                15362\n",
       "Item Code           15362\n",
       "Year Code               0\n",
       "Year                    0\n",
       "Element Code            0\n",
       "Element                 0\n",
       "Unit                    0\n",
       "Value                   0\n",
       "Flag                    0\n",
       "Flag Description        0\n",
       "Note                65411\n",
       "dtype: int64"
      ]
     },
     "execution_count": 18,
     "metadata": {},
     "output_type": "execute_result"
    }
   ],
   "source": [
    "# check for missing values\n",
    "data.isnull().sum()"
   ]
  },
  {
   "cell_type": "code",
   "execution_count": 24,
   "id": "758007b7",
   "metadata": {},
   "outputs": [
    {
     "data": {
      "text/plain": [
       "<AxesSubplot:>"
      ]
     },
     "execution_count": 24,
     "metadata": {},
     "output_type": "execute_result"
    },
    {
     "data": {
      "image/png": "[encoded data removed]",
      "text/plain": [
       "<Figure size 432x288 with 1 Axes>"
      ]
     },
     "metadata": {
      "needs_background": "light"
     },
     "output_type": "display_data"
    }
   ],
   "source": [
    "sns.heatmap(data.isnull(), cbar=False, cmap='Blues')"
   ]
  },
  {
   "cell_type": "code",
   "execution_count": 28,
   "id": "6aa1c57f",
   "metadata": {},
   "outputs": [],
   "source": [
    "# imputing missing values with empty strings\n",
    "data[\"Food Group Code\"].fillna('', inplace=True)\n",
    "data[\"Food Group\"].fillna('',inplace = True)\n",
    "data[\"Indicator Code\"].fillna('', inplace=True)\n",
    "data[\"Indicator\"].fillna('', inplace=True)\n",
    "data[\"Note\"].fillna('', inplace=True)\n",
    "data[\"Item\"].fillna('', inplace=True)\n",
    "data[\"Item Code\"].fillna('', inplace=True)"
   ]
  },
  {
   "cell_type": "code",
   "execution_count": 29,
   "id": "d3a03066",
   "metadata": {},
   "outputs": [
    {
     "data": {
      "text/plain": [
       "Domain Code         0\n",
       "Domain              0\n",
       "Area Code (M49)     0\n",
       "Area                0\n",
       "Food Group Code     0\n",
       "Food Group          0\n",
       "Indicator Code      0\n",
       "Indicator           0\n",
       "Item                0\n",
       "Item Code           0\n",
       "Year Code           0\n",
       "Year                0\n",
       "Element Code        0\n",
       "Element             0\n",
       "Unit                0\n",
       "Value               0\n",
       "Flag                0\n",
       "Flag Description    0\n",
       "Note                0\n",
       "dtype: int64"
      ]
     },
     "execution_count": 29,
     "metadata": {},
     "output_type": "execute_result"
    }
   ],
   "source": [
    "#checking to see if there are still any missing values\n",
    "data.isnull().sum()"
   ]
  },
  {
   "cell_type": "code",
   "execution_count": 31,
   "id": "bff9c725",
   "metadata": {
    "scrolled": true
   },
   "outputs": [
    {
     "name": "stdout",
     "output_type": "stream",
     "text": [
      "number of duplicated rows:  (0, 19)\n"
     ]
    }
   ],
   "source": [
    "#handling duplicated rows\n",
    "duplicate_rows_data = data[data.duplicated()]\n",
    "print(\"number of duplicated rows: \", duplicate_rows_data.shape)"
   ]
  },
  {
   "cell_type": "code",
   "execution_count": 33,
   "id": "c47547eb",
   "metadata": {},
   "outputs": [],
   "source": [
    "#drop the duplicates\n",
    "data = data.drop_duplicates()"
   ]
  },
  {
   "cell_type": "code",
   "execution_count": 34,
   "id": "e8f46716",
   "metadata": {},
   "outputs": [
    {
     "data": {
      "text/plain": [
       "(65897, 19)"
      ]
     },
     "execution_count": 34,
     "metadata": {},
     "output_type": "execute_result"
    }
   ],
   "source": [
    "#returns the new shape of the dataset\n",
    "data.shape"
   ]
  },
  {
   "cell_type": "code",
   "execution_count": 30,
   "id": "a5b72bbc",
   "metadata": {},
   "outputs": [
    {
     "data": {
      "text/plain": [
       "Domain Code             2\n",
       "Domain                  2\n",
       "Area Code (M49)         5\n",
       "Area                    5\n",
       "Food Group Code        16\n",
       "Food Group             16\n",
       "Indicator Code         26\n",
       "Indicator              26\n",
       "Item                  161\n",
       "Item Code             159\n",
       "Year Code              62\n",
       "Year                   62\n",
       "Element Code           21\n",
       "Element                10\n",
       "Unit                   15\n",
       "Value               23350\n",
       "Flag                    5\n",
       "Flag Description        5\n",
       "Note                    3\n",
       "dtype: int64"
      ]
     },
     "execution_count": 30,
     "metadata": {},
     "output_type": "execute_result"
    }
   ],
   "source": [
    "#checks for yhe number of unique values found in each column\n",
    "data.nunique()"
   ]
  },
  {
   "cell_type": "code",
   "execution_count": null,
   "id": "bdf46e21",
   "metadata": {},
   "outputs": [],
   "source": []
  }
 ],
 "metadata": {
  "kernelspec": {
   "display_name": "Python 3 (ipykernel)",
   "language": "python",
   "name": "python3"
  },
  "language_info": {
   "codemirror_mode": {
    "name": "ipython",
    "version": 3
   },
   "file_extension": ".py",
   "mimetype": "text/x-python",
   "name": "python",
   "nbconvert_exporter": "python",
   "pygments_lexer": "ipython3",
   "version": "3.9.12"
  }
 },
 "nbformat": 4,
 "nbformat_minor": 5
}
